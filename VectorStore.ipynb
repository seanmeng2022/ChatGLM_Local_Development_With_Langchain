{
 "cells": [
  {
   "cell_type": "code",
   "execution_count": 1,
   "id": "8bf54cd0-3205-486a-937d-97af85089be5",
   "metadata": {
    "tags": []
   },
   "outputs": [],
   "source": [
    "!pip3 install langchain --quiet\n",
    "!pip3 install chromadb --quiet\n",
    "!pip3 install sentence-transformers --quiet\n",
    "!pip3 install unstructured --quiet"
   ]
  },
  {
   "cell_type": "code",
   "execution_count": 2,
   "id": "5e5b6e73-d205-45ec-b55e-d3ce9f5b0de1",
   "metadata": {
    "tags": []
   },
   "outputs": [],
   "source": [
    "from langchain import LLMChain, PromptTemplate\n",
    "from langchain.llms import ChatGLM\n",
    "from langchain.chains import RetrievalQA"
   ]
  },
  {
   "cell_type": "code",
   "execution_count": 3,
   "id": "8860188d-53b1-4fed-b55a-1e3376d48ff8",
   "metadata": {
    "tags": []
   },
   "outputs": [
    {
     "name": "stdout",
     "output_type": "stream",
     "text": [
      "documents:1\n",
      "split_docs size: 36\n"
     ]
    }
   ],
   "source": [
    "from langchain.document_loaders import UnstructuredFileLoader\n",
    "from langchain.text_splitter import RecursiveCharacterTextSplitter\n",
    "# 导入文本\n",
    "loader = UnstructuredFileLoader(\"demo.txt\")\n",
    "# 将文本转成 Document 目标\n",
    "data = loader.load()\n",
    "print(f'documents:{len(data)}')\n",
    "# 初始化加载器\n",
    "text_splitter = RecursiveCharacterTextSplitter(chunk_size=100, chunk_overlap=0)\n",
    "# 切割加载的 document\n",
    "split_docs = text_splitter.split_documents(data)\n",
    "print(\"split_docs size:\",len(split_docs))"
   ]
  },
  {
   "cell_type": "code",
   "execution_count": 4,
   "id": "dc3eb36d-eb3e-4191-9c66-187e9e30696a",
   "metadata": {
    "tags": []
   },
   "outputs": [],
   "source": [
    "from langchain.embeddings.huggingface import HuggingFaceEmbeddings\n",
    "import IPython\n",
    "import sentence_transformers"
   ]
  },
  {
   "cell_type": "code",
   "execution_count": 5,
   "id": "b144c0af-01e7-4961-a494-e7200b19f4cf",
   "metadata": {
    "tags": []
   },
   "outputs": [],
   "source": [
    "embedding_model_dict = {\n",
    "    \"ernie-tiny\": \"nghuyong/ernie-3.0-nano-zh\",\n",
    "    \"ernie-base\": \"nghuyong/ernie-3.0-base-zh\",\n",
    "    \"text2vec\": \"GanymedeNil/text2vec-large-chinese\",\n",
    "    \"text2vec2\":\"uer/sbert-base-chinese-nli\",\n",
    "    \"text2vec3\":\"shibing624/text2vec-base-chinese\",\n",
    "}\n",
    "EMBEDDING_MODEL = \"text2vec3\""
   ]
  },
  {
   "cell_type": "code",
   "execution_count": 6,
   "id": "0c95a439-33a0-43db-a65c-c10f2eafcddc",
   "metadata": {
    "tags": []
   },
   "outputs": [],
   "source": [
    "embeddings = HuggingFaceEmbeddings(model_name=embedding_model_dict[EMBEDDING_MODEL], )"
   ]
  },
  {
   "cell_type": "code",
   "execution_count": 7,
   "id": "a4b7f315-427b-4249-a29c-c606ae3c75e8",
   "metadata": {
    "tags": []
   },
   "outputs": [],
   "source": [
    "from langchain.vectorstores import Chroma"
   ]
  },
  {
   "cell_type": "code",
   "execution_count": 8,
   "id": "02e5593b-1ee2-42e6-b2e8-103b620b1e54",
   "metadata": {
    "tags": []
   },
   "outputs": [],
   "source": [
    "db = Chroma.from_documents(split_docs, embeddings,persist_directory=\"vector-result\")"
   ]
  },
  {
   "cell_type": "code",
   "execution_count": 17,
   "id": "634d33e1-7cda-44d0-8ed7-16a59718a8fd",
   "metadata": {
    "tags": []
   },
   "outputs": [
    {
     "name": "stdout",
     "output_type": "stream",
     "text": [
      "page_content='巨亏之下，恒大汽车的财务状况可谓“捉襟见肘”。根据恒大汽车披露，截至2022年底其负债总额达到1838.72亿元，剔除1190.02亿元的住宅业务相关负债后，仍有648.70亿元的负债，其中包含流动' metadata={'source': 'demo.txt'}\n",
      "page_content='巨亏之下，恒大汽车的财务状况可谓“捉襟见肘”。根据恒大汽车披露，截至2022年底其负债总额达到1838.72亿元，剔除1190.02亿元的住宅业务相关负债后，仍有648.70亿元的负债，其中包含流动' metadata={'source': 'demo.txt'}\n",
      "page_content='巨亏之下，恒大汽车的财务状况可谓“捉襟见肘”。根据恒大汽车披露，截至2022年底其负债总额达到1838.72亿元，剔除1190.02亿元的住宅业务相关负债后，仍有648.70亿元的负债，其中包含流动' metadata={'source': 'demo.txt'}\n",
      "page_content='巨亏之下，恒大汽车的财务状况可谓“捉襟见肘”。根据恒大汽车披露，截至2022年底其负债总额达到1838.72亿元，剔除1190.02亿元的住宅业务相关负债后，仍有648.70亿元的负债，其中包含流动' metadata={'source': 'demo.txt'}\n"
     ]
    },
    {
     "data": {
      "text/plain": [
       "[None, None, None, None]"
      ]
     },
     "execution_count": 17,
     "metadata": {},
     "output_type": "execute_result"
    }
   ],
   "source": [
    "question = \"恒大集团2022年负债总额有多少？\"\n",
    "similarDocs = db.similarity_search(question, include_metadata=True,k=4)\n",
    "[print(x) for x in similarDocs]"
   ]
  },
  {
   "cell_type": "markdown",
   "id": "0e937f86-b5ca-4aff-9e6c-f1b28992cff8",
   "metadata": {},
   "source": [
    "## 接入ChatGLM做总结"
   ]
  },
  {
   "cell_type": "code",
   "execution_count": 10,
   "id": "8686107c-fea9-4197-9a57-28fa90ede4d1",
   "metadata": {
    "tags": []
   },
   "outputs": [],
   "source": [
    "endpoint_url = \"http://127.0.0.1:8000\"\n",
    "\n",
    "# direct access endpoint in a proxied environment\n",
    "# os.environ['NO_PROXY'] = '127.0.0.1'\n",
    "\n",
    "llm = ChatGLM(\n",
    "    endpoint_url=endpoint_url,\n",
    "    max_token=80000,\n",
    "    history=[],\n",
    "    top_p=0.9,\n",
    "    model_kwargs={\"sample_model_args\": False},\n",
    ")"
   ]
  },
  {
   "cell_type": "code",
   "execution_count": 15,
   "id": "d5184f11-e64a-426c-ad4b-0a73285ae4bb",
   "metadata": {
    "tags": []
   },
   "outputs": [
    {
     "name": "stdout",
     "output_type": "stream",
     "text": [
      "这篇文章没有明确的主题或话题，它提供了几个与恒大集团相关的背景信息，包括一个有网友给恒大算了一笔账的故事，以及股票停牌窗口仅剩两月。这些信息似乎是用来报道或讨论恒大集团的财务状况或汽车销售业务，但文章没有提供更多上下文或明确的问题。\n"
     ]
    }
   ],
   "source": [
    "from langchain.chains import RetrievalQA\n",
    "import IPython\n",
    "retriever = db.as_retriever()\n",
    "qa = RetrievalQA.from_chain_type(llm=llm, chain_type=\"stuff\", retriever=retriever)\n",
    "# 进行问答\n",
    "query = \"这篇文章谈论的是什么？\"\n",
    "print(qa.run(query))"
   ]
  },
  {
   "cell_type": "code",
   "execution_count": 16,
   "id": "3478973d-28ec-490b-b5ac-cdd2345e7c3e",
   "metadata": {
    "tags": []
   },
   "outputs": [
    {
     "name": "stdout",
     "output_type": "stream",
     "text": [
      "根据恒大汽车披露，截至2022年底其负债总额达到1838.72亿元。\n"
     ]
    }
   ],
   "source": [
    "query = \"恒大集团2022年负债总额有多少？\"\n",
    "print(qa.run(query))"
   ]
  },
  {
   "cell_type": "markdown",
   "id": "435ceccc-7ea1-40e3-b1fb-7404f1aa9d9c",
   "metadata": {},
   "source": [
    "## 以上步骤可以直接用封装好的index_creator"
   ]
  },
  {
   "cell_type": "code",
   "execution_count": null,
   "id": "c9b202e1-5f46-4d57-9547-39a2fe1a4dd8",
   "metadata": {},
   "outputs": [],
   "source": [
    "index_creator = VectorstoreIndexCreator(\n",
    "    vectorstore_cls=Chroma, \n",
    "    embedding=OpenAIEmbeddings(),\n",
    "    text_splitter=CharacterTextSplitter(chunk_size=1000, chunk_overlap=0)\n",
    ")"
   ]
  }
 ],
 "metadata": {
  "kernelspec": {
   "display_name": "conda_python3",
   "language": "python",
   "name": "conda_python3"
  },
  "language_info": {
   "codemirror_mode": {
    "name": "ipython",
    "version": 3
   },
   "file_extension": ".py",
   "mimetype": "text/x-python",
   "name": "python",
   "nbconvert_exporter": "python",
   "pygments_lexer": "ipython3",
   "version": "3.10.10"
  }
 },
 "nbformat": 4,
 "nbformat_minor": 5
}
