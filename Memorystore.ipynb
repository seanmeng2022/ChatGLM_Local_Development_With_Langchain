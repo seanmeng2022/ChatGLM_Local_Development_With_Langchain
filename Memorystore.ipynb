{
 "cells": [
  {
   "cell_type": "code",
   "execution_count": 7,
   "id": "67e71993-f633-47ec-9322-3d84d5548ce9",
   "metadata": {
    "tags": []
   },
   "outputs": [],
   "source": [
    "!pip3 install langchain --quiet"
   ]
  },
  {
   "cell_type": "code",
   "execution_count": 9,
   "id": "e2dc2aa5-ed14-4b09-9170-0bea576b6a76",
   "metadata": {
    "tags": []
   },
   "outputs": [],
   "source": [
    "from langchain.memory import ConversationBufferMemory\n",
    "from langchain import LLMChain, PromptTemplate\n",
    "from langchain.llms import ChatGLM"
   ]
  },
  {
   "cell_type": "code",
   "execution_count": 15,
   "id": "6c9d287c-176e-4383-b558-06c9003faa62",
   "metadata": {
    "tags": []
   },
   "outputs": [],
   "source": [
    "endpoint_url = \"http://127.0.0.1:8000\"\n",
    "\n",
    "# direct access endpoint in a proxied environment\n",
    "# os.environ['NO_PROXY'] = '127.0.0.1'\n",
    "\n",
    "llm = ChatGLM(\n",
    "    endpoint_url=endpoint_url,\n",
    "    max_token=80000,\n",
    "    history=[],\n",
    "    top_p=0.9,\n",
    "    model_kwargs={\"sample_model_args\": False},\n",
    ")"
   ]
  },
  {
   "cell_type": "code",
   "execution_count": 55,
   "id": "0567e3a3-eba0-4871-818f-2f3c43b4e316",
   "metadata": {
    "tags": []
   },
   "outputs": [],
   "source": [
    "template = \"\"\"你是一个聊天机器人.\n",
    "\n",
    "Human: {human_input}\n",
    "AI:\"\"\"\n",
    " \n",
    "    \n",
    "\n",
    "prompt = PromptTemplate(\n",
    "    input_variables=[\"human_input\"], \n",
    "    template=template\n",
    ")"
   ]
  },
  {
   "cell_type": "code",
   "execution_count": 56,
   "id": "515179a8-229f-48e0-9d81-25b64186d64f",
   "metadata": {
    "tags": []
   },
   "outputs": [],
   "source": [
    "llm_chain = LLMChain(prompt=prompt, llm=llm)"
   ]
  },
  {
   "cell_type": "code",
   "execution_count": 57,
   "id": "69c5efd8-e6e7-429e-aa60-408524e93ecf",
   "metadata": {
    "tags": []
   },
   "outputs": [
    {
     "data": {
      "text/plain": [
       "'我是一个聊天机器人，我的名字是 ChatGLM。'"
      ]
     },
     "execution_count": 57,
     "metadata": {},
     "output_type": "execute_result"
    }
   ],
   "source": [
    "llm_chain.predict(human_input=\"我的名字是孟祥智，你的名字是什么？\")"
   ]
  },
  {
   "cell_type": "code",
   "execution_count": 58,
   "id": "5eefa5cc-1f3b-4744-8305-87eb4ce9d709",
   "metadata": {
    "tags": []
   },
   "outputs": [
    {
     "data": {
      "text/plain": [
       "'我是一个聊天机器人，我能进行自然语言对话，回答你的问题，提供信息，解决问题，进行闲聊，以及提供一些娱乐。'"
      ]
     },
     "execution_count": 58,
     "metadata": {},
     "output_type": "execute_result"
    }
   ],
   "source": [
    "llm_chain.predict(human_input=\"作为聊天机器人，你都能做些什么？\")"
   ]
  },
  {
   "cell_type": "code",
   "execution_count": 59,
   "id": "6ca82f59-286a-4132-ae60-db7beda2e73c",
   "metadata": {
    "tags": []
   },
   "outputs": [
    {
     "data": {
      "text/plain": [
       "'抱歉,Human,我无法记住您的名字,因为我只是一个机器人,没有记忆。但我可以回答您的问题和提供帮助。请问有什么我可以帮助您的吗?'"
      ]
     },
     "execution_count": 59,
     "metadata": {},
     "output_type": "execute_result"
    }
   ],
   "source": [
    "llm_chain.predict(human_input=\"那你还记得我的名字叫什么么?\")"
   ]
  },
  {
   "cell_type": "markdown",
   "id": "b525854f-a244-453d-a627-094e5389e86a",
   "metadata": {},
   "source": [
    "## 下面加入Memory"
   ]
  },
  {
   "cell_type": "code",
   "execution_count": 60,
   "id": "8625ee65-b87b-4c59-a23d-16b7fd51f27f",
   "metadata": {
    "tags": []
   },
   "outputs": [],
   "source": [
    "template = \"\"\"你是一个聊天机器人.\n",
    " \n",
    "{chat_history}\n",
    "Human: {human_input}\n",
    "AI:\"\"\"\n",
    " \n",
    "    \n",
    "\n",
    "prompt = PromptTemplate(\n",
    "    input_variables=[\"chat_history\", \"human_input\"], \n",
    "    template=template\n",
    ")\n",
    "memory = ConversationBufferMemory(memory_key=\"chat_history\")"
   ]
  },
  {
   "cell_type": "code",
   "execution_count": 61,
   "id": "194e46be-7bdf-4afc-b338-98928959184c",
   "metadata": {
    "tags": []
   },
   "outputs": [],
   "source": [
    "llm_chain = LLMChain(\n",
    "    llm=llm, \n",
    "    prompt=prompt, \n",
    "    verbose=True, \n",
    "    memory=memory,\n",
    ")"
   ]
  },
  {
   "cell_type": "code",
   "execution_count": 62,
   "id": "fa9b0185-3e47-48f5-b0de-5c59e221aca6",
   "metadata": {
    "tags": []
   },
   "outputs": [
    {
     "name": "stdout",
     "output_type": "stream",
     "text": [
      "\n",
      "\n",
      "\u001b[1m> Entering new LLMChain chain...\u001b[0m\n",
      "Prompt after formatting:\n",
      "\u001b[32;1m\u001b[1;3m你是一个聊天机器人.\n",
      " \n",
      "\n",
      "Human: 我的名字是孟祥智，你的名字是什么？\n",
      "AI:\u001b[0m\n",
      "\n",
      "\u001b[1m> Finished chain.\u001b[0m\n"
     ]
    },
    {
     "data": {
      "text/plain": [
       "'我是一个聊天机器人，我的名字是 ChatGLM。'"
      ]
     },
     "execution_count": 62,
     "metadata": {},
     "output_type": "execute_result"
    }
   ],
   "source": [
    "llm_chain.predict(human_input=\"我的名字是孟祥智，你的名字是什么？\")"
   ]
  },
  {
   "cell_type": "code",
   "execution_count": 63,
   "id": "0a1d11b9-c222-4443-b17f-15fe96d2a484",
   "metadata": {
    "tags": []
   },
   "outputs": [
    {
     "name": "stdout",
     "output_type": "stream",
     "text": [
      "\n",
      "\n",
      "\u001b[1m> Entering new LLMChain chain...\u001b[0m\n",
      "Prompt after formatting:\n",
      "\u001b[32;1m\u001b[1;3m你是一个聊天机器人.\n",
      " \n",
      "Human: 我的名字是孟祥智，你的名字是什么？\n",
      "AI: 我是一个聊天机器人，我的名字是 ChatGLM。\n",
      "Human: 作为聊天机器人，你都能做些什么？\n",
      "AI:\u001b[0m\n",
      "\n",
      "\u001b[1m> Finished chain.\u001b[0m\n"
     ]
    },
    {
     "data": {
      "text/plain": [
       "'我可以回答你的问题、提供信息、解决问题、进行交流、学习语言等等。'"
      ]
     },
     "execution_count": 63,
     "metadata": {},
     "output_type": "execute_result"
    }
   ],
   "source": [
    "llm_chain.predict(human_input=\"作为聊天机器人，你都能做些什么？\")"
   ]
  },
  {
   "cell_type": "code",
   "execution_count": 64,
   "id": "c9178288-db9c-48a5-b17f-42611014d9f5",
   "metadata": {
    "tags": []
   },
   "outputs": [
    {
     "name": "stdout",
     "output_type": "stream",
     "text": [
      "\n",
      "\n",
      "\u001b[1m> Entering new LLMChain chain...\u001b[0m\n",
      "Prompt after formatting:\n",
      "\u001b[32;1m\u001b[1;3m你是一个聊天机器人.\n",
      " \n",
      "Human: 我的名字是孟祥智，你的名字是什么？\n",
      "AI: 我是一个聊天机器人，我的名字是 ChatGLM。\n",
      "Human: 作为聊天机器人，你都能做些什么？\n",
      "AI: 我可以回答你的问题、提供信息、解决问题、进行交流、学习语言等等。\n",
      "Human: 那你还记得我的名字叫什么么\n",
      "AI:\u001b[0m\n",
      "\n",
      "\u001b[1m> Finished chain.\u001b[0m\n"
     ]
    },
    {
     "data": {
      "text/plain": [
       "'当然，您的名字是孟祥智。作为一名聊天机器人，我无法直接获取您的个人信息，但我会尽力回答您的问题和提供帮助。'"
      ]
     },
     "execution_count": 64,
     "metadata": {},
     "output_type": "execute_result"
    }
   ],
   "source": [
    "llm_chain.predict(human_input=\"那你还记得我的名字叫什么么\")"
   ]
  }
 ],
 "metadata": {
  "kernelspec": {
   "display_name": "conda_python3",
   "language": "python",
   "name": "conda_python3"
  },
  "language_info": {
   "codemirror_mode": {
    "name": "ipython",
    "version": 3
   },
   "file_extension": ".py",
   "mimetype": "text/x-python",
   "name": "python",
   "nbconvert_exporter": "python",
   "pygments_lexer": "ipython3",
   "version": "3.10.10"
  }
 },
 "nbformat": 4,
 "nbformat_minor": 5
}
