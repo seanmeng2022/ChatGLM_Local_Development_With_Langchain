!pip install transformers --quiet 
!pip install transformers[sentencepiece] --quiet
!pip install langchain --quiet

